{
 "cells": [
  {
   "cell_type": "markdown",
   "metadata": {},
   "source": [
    "# Brie Powell \n",
    "<p>Homework; Week 2 - Day 1: Intro Python</p>"
   ]
  },
  {
   "cell_type": "markdown",
   "metadata": {},
   "source": [
    "## Exercise #1 <br>\n",
    "<p>Cube Number Test... Print out all cubed numbers up to the total value 1000. Meaning that if the cubed number is over 1000 break the loop.</p>"
   ]
  },
  {
   "cell_type": "code",
   "execution_count": 27,
   "metadata": {},
   "outputs": [
    {
     "name": "stdout",
     "output_type": "stream",
     "text": [
      "0\n",
      "1\n",
      "8\n",
      "27\n",
      "64\n",
      "125\n",
      "216\n",
      "343\n",
      "512\n",
      "729\n",
      "1000\n"
     ]
    }
   ],
   "source": [
    "#print numbers**3 wile n<1001\n",
    "num = 0\n",
    "while num ** 3 < 1001:\n",
    "    print(num ** 3)\n",
    "    num += 1 \n",
    "#make sure you know why this one worked. Is it that the num += 1 kick off the loop, but n+1 doesnt?"
   ]
  },
  {
   "cell_type": "markdown",
   "metadata": {},
   "source": [
    "## Exercise #2 <br>\n",
    "<p>Get first prime numbers up to 100</p>"
   ]
  },
  {
   "cell_type": "code",
   "execution_count": null,
   "metadata": {},
   "outputs": [],
   "source": [
    "# HINT::\n",
    "# An else after an if runs if the if didn’t\n",
    "# An else after a for runs if the for didn’t break\n",
    "\n",
    "\n",
    "#num = 100\n",
    "#if num > 1:\n",
    "prime = i// (i-1) + 2\n",
    "for num in range(1, 101):\n",
    "    print(prime)\n",
    "\n",
    "            "
   ]
  },
  {
   "cell_type": "markdown",
   "metadata": {},
   "source": [
    "## Exercise 3 <br>\n",
    "<p>Take in a users input for their age, if they are younger than 18 print kids, if they're 18 to 65 print adults, else print seniors</p>"
   ]
  },
  {
   "cell_type": "code",
   "execution_count": 65,
   "metadata": {},
   "outputs": [
    {
     "name": "stdout",
     "output_type": "stream",
     "text": [
      "How old are you? 64\n",
      "Adult, sorry...not much to enjoy.\n"
     ]
    }
   ],
   "source": [
    "#test your margins (17, 64)\n",
    "\n",
    "#age = input('How old are you? ')\n",
    "\n",
    "#age_int = int(age)\n",
    "#for number in age:\n",
    "#    if age_int <= 17:\n",
    "#        print('You are a kid, enjoy it while it lasts!')\n",
    "        \n",
    "#    if age_int >= 18 and age_int <= 64:\n",
    "#        print('You are an adult, sorry...not much to enjoy.')\n",
    "        \n",
    "#    else:\n",
    "#        print('You are a senior, enjoy the discounts.')\n",
    "\n",
    "#This one kept spitting out double responses, I think because of the 'and' element\n",
    "    \n",
    "age = input('How old are you? ')\n",
    "\n",
    "age_int = int(age)\n",
    "\n",
    "if age_int < 18:\n",
    "    print('Kid: enjoy it while it lasts!')\n",
    "        \n",
    "if age_int >= 18 and age_int <= 64:\n",
    "    print('Adult: sorry...not much to enjoy.')\n",
    "        \n",
    "elif age_int > 64:\n",
    "    print('Senior: enjoy the discounts?')\n"
   ]
  }
 ],
 "metadata": {
  "kernelspec": {
   "display_name": "Python 3",
   "language": "python",
   "name": "python3"
  },
  "language_info": {
   "codemirror_mode": {
    "name": "ipython",
    "version": 3
   },
   "file_extension": ".py",
   "mimetype": "text/x-python",
   "name": "python",
   "nbconvert_exporter": "python",
   "pygments_lexer": "ipython3",
   "version": "3.8.8"
  }
 },
 "nbformat": 4,
 "nbformat_minor": 2
}
